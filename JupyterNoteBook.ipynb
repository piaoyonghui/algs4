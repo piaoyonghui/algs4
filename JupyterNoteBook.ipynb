{
 "cells": [
  {
   "cell_type": "markdown",
   "metadata": {},
   "source": [
    "# Check Python version "
   ]
  },
  {
   "cell_type": "code",
   "execution_count": 1,
   "metadata": {
    "collapsed": false
   },
   "outputs": [
    {
     "name": "stdout",
     "output_type": "stream",
     "text": [
      "3.6.5\n"
     ]
    }
   ],
   "source": [
    "import platform \n",
    "print(platform.python_version())"
   ]
  },
  {
   "cell_type": "markdown",
   "metadata": {},
   "source": [
    "# Check path"
   ]
  },
  {
   "cell_type": "code",
   "execution_count": 7,
   "metadata": {
    "collapsed": false
   },
   "outputs": [
    {
     "data": {
      "text/plain": [
       "'/Users/yonghuipiao/.julia/v0.6/Conda/deps/usr/bin/python'"
      ]
     },
     "execution_count": 7,
     "metadata": {},
     "output_type": "execute_result"
    }
   ],
   "source": [
    "import sys\n",
    "#sys.path\n",
    "sys.executable"
   ]
  },
  {
   "cell_type": "markdown",
   "metadata": {},
   "source": [
    "# Install Packages"
   ]
  },
  {
   "cell_type": "code",
   "execution_count": 1,
   "metadata": {
    "collapsed": false
   },
   "outputs": [
    {
     "name": "stdout",
     "output_type": "stream",
     "text": [
      "/Users/yonghuipiao/.julia/v0.6/Conda/deps/usr/bin/python -m pip install ipython-sql\n"
     ]
    }
   ],
   "source": [
    "print (\"/Users/yonghuipiao/.julia/v0.6/Conda/deps/usr/bin/python -m pip install ipython-sql\")"
   ]
  },
  {
   "cell_type": "markdown",
   "metadata": {},
   "source": [
    "# Verify kernel"
   ]
  },
  {
   "cell_type": "code",
   "execution_count": 8,
   "metadata": {
    "collapsed": false
   },
   "outputs": [
    {
     "name": "stdout",
     "output_type": "stream",
     "text": [
      "Available kernels:\n",
      "  python2      /Users/yonghuipiao/anaconda/lib/python2.7/site-packages/ipykernel/resources\n",
      "  julia-0.6    /Users/yonghuipiao/Library/Jupyter/kernels/julia-0.6\n",
      "  python3      /Users/yonghuipiao/Library/Jupyter/kernels/python3\n",
      "  java         /usr/local/share/jupyter/kernels/java\n"
     ]
    }
   ],
   "source": [
    "%%bash\n",
    "jupyter kernelspec list"
   ]
  },
  {
   "cell_type": "markdown",
   "metadata": {},
   "source": [
    "# Keyboard shortcuts\n",
    "One final thing you may have observed when running your cells is that their border turned blue, whereas it was green while you were editing. There is always one \"active\" cell highlighted with a border whose colour denotes its current mode, where green means **edit mode** and blue is **command mode**.\n",
    "\n",
    "So far we have seen how to run a cell with ```Ctrl + Enter```, but there are plenty more. Keyboard shortcuts are a very popular aspect of the Jupyter environment because they facilitate a speedy cell-based workflow. Many of these are actions you can carry out on the active cell when it's in command mode.\n",
    "\n",
    "Below, you'll find a list of some of Jupyter's keyboard shortcuts. You're not expected to pick them up immediately, but the list should give you a good idea of what's possible.\n",
    "\n",
    "* Toggle between edit and command mode with **Esc** and **Enter**, respectively.\n",
    "\n",
    "* Once in command mode:\n",
    "  * Scroll up and down your cells with your Up and Down keys.\n",
    "  * Press **A** or **B** to insert a new cell above or below the active cell.\n",
    "  * **M** will transform the active cell to a Markdown cell.\n",
    "  * **Y** will set the active cell to a code cell.\n",
    "  * **D + D (D twice)** will delete the active cell.\n",
    "  * **Z** will undo cell deletion.\n",
    "  * Hold Shift and press Up or Down to select multiple cells at once.\n",
    "    * With multple cells selected, Shift + M will merge your selection.\n",
    "* **Ctrl + Shift + -**, in edit mode, will split the active cell at the cursor.\n",
    "* You can also click and **Shift + Click** in the margin to the left of your cells to select them.\n",
    "\n",
    "## Find and replace\n",
    "There is a find-and-replace command in Jupyter. It's key binding is** <kbd>F</kbd>(command mode)**\n",
    "\n",
    "## Others\n",
    "|Shortcut|Action|\n",
    "|--------|------|\n",
    "|Shift-Enter|run cell|\n",
    "|Ctrl-Enter|run cell in-place|\n",
    "|Alt-Enter|run cell, insert below|\n",
    "|Ctrl-m x|cut cell|\n",
    "|Ctrl-m c|copy cell|\n",
    "|Ctrl-m v|paste cell|\n",
    "|Ctrl-m d|delete cell|\n",
    "|Ctrl-m z|undo last cell deletion|\n",
    "|Ctrl-m –|split cell|\n",
    "|Ctrl-m a|insert cell above|\n",
    "|Ctrl-m b|insert cell below|\n",
    "|Ctrl-m o|toggle output|\n",
    "|Ctrl-m O|toggle output scroll|\n",
    "|Ctrl-m l|toggle line numbers|\n",
    "|Ctrl-m s|save notebook|\n",
    "|Ctrl-m j|move cell down|\n",
    "|Ctrl-m k|move cell up|\n",
    "|Ctrl-m y|code cell|\n",
    "|Ctrl-m m|markdown cell|\n",
    "|Ctrl-m t|raw cell|\n",
    "|Ctrl-m 1-6|heading 1-6 cell|\n",
    "|Ctrl-m p|select previous|\n",
    "|Ctrl-m n|select next|\n",
    "|Ctrl-m i|interrupt kernel|\n",
    "|Ctrl-m .|restart kernel|\n",
    "|Ctrl-m h|show keyboard shortcuts|"
   ]
  },
  {
   "cell_type": "markdown",
   "metadata": {},
   "source": [
    "# Beaker\n",
    "## install\n",
    "``` bash\n",
    "/Users/yonghuipiao/.julia/v0.6/Conda/deps/usr/bin/python -m pip install beakerx\n",
    "```\n",
    "``` bash\n",
    "/Users/yonghuipiao/.julia/v0.6/Conda/deps/usr/bin/beakerx install\n",
    "```"
   ]
  },
  {
   "cell_type": "markdown",
   "metadata": {},
   "source": [
    "# References\n",
    "- [Install BeakerX](http://beakerx.com/documentation#tutorials-and-examples)"
   ]
  }
 ],
 "metadata": {
  "anaconda-cloud": {},
  "kernelspec": {
   "display_name": "Python [usr]",
   "language": "python",
   "name": "Python [usr]"
  },
  "language_info": {
   "codemirror_mode": {
    "name": "ipython",
    "version": 3
   },
   "file_extension": ".py",
   "mimetype": "text/x-python",
   "name": "python",
   "nbconvert_exporter": "python",
   "pygments_lexer": "ipython3",
   "version": "3.6.5"
  }
 },
 "nbformat": 4,
 "nbformat_minor": 0
}
